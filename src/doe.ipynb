{
 "cells": [
  {
   "cell_type": "markdown",
   "metadata": {},
   "source": [
    "# Design of Experiment"
   ]
  },
  {
   "cell_type": "markdown",
   "metadata": {},
   "source": [
    "### Import Libraries"
   ]
  },
  {
   "cell_type": "code",
   "execution_count": 1,
   "metadata": {},
   "outputs": [],
   "source": [
    "import pandas as pd\n",
    "import numpy as np\n",
    "import matplotlib.pyplot as plt\n",
    "import seaborn as sns"
   ]
  },
  {
   "cell_type": "markdown",
   "metadata": {},
   "source": [
    "### Import Dataset"
   ]
  },
  {
   "cell_type": "code",
   "execution_count": 2,
   "metadata": {},
   "outputs": [
    {
     "data": {
      "text/html": [
       "<div>\n",
       "<style scoped>\n",
       "    .dataframe tbody tr th:only-of-type {\n",
       "        vertical-align: middle;\n",
       "    }\n",
       "\n",
       "    .dataframe tbody tr th {\n",
       "        vertical-align: top;\n",
       "    }\n",
       "\n",
       "    .dataframe thead th {\n",
       "        text-align: right;\n",
       "    }\n",
       "</style>\n",
       "<table border=\"1\" class=\"dataframe\">\n",
       "  <thead>\n",
       "    <tr style=\"text-align: right;\">\n",
       "      <th></th>\n",
       "      <th>obj_ID</th>\n",
       "      <th>alpha</th>\n",
       "      <th>delta</th>\n",
       "      <th>u</th>\n",
       "      <th>g</th>\n",
       "      <th>r</th>\n",
       "      <th>i</th>\n",
       "      <th>z</th>\n",
       "      <th>run_ID</th>\n",
       "      <th>rerun_ID</th>\n",
       "      <th>cam_col</th>\n",
       "      <th>field_ID</th>\n",
       "      <th>spec_obj_ID</th>\n",
       "      <th>class</th>\n",
       "      <th>redshift</th>\n",
       "      <th>plate</th>\n",
       "      <th>MJD</th>\n",
       "      <th>fiber_ID</th>\n",
       "    </tr>\n",
       "  </thead>\n",
       "  <tbody>\n",
       "    <tr>\n",
       "      <th>0</th>\n",
       "      <td>1.237661e+18</td>\n",
       "      <td>135.689107</td>\n",
       "      <td>32.494632</td>\n",
       "      <td>23.87882</td>\n",
       "      <td>22.27530</td>\n",
       "      <td>20.39501</td>\n",
       "      <td>19.16573</td>\n",
       "      <td>18.79371</td>\n",
       "      <td>3606</td>\n",
       "      <td>301</td>\n",
       "      <td>2</td>\n",
       "      <td>79</td>\n",
       "      <td>6.543777e+18</td>\n",
       "      <td>GALAXY</td>\n",
       "      <td>0.634794</td>\n",
       "      <td>5812</td>\n",
       "      <td>56354</td>\n",
       "      <td>171</td>\n",
       "    </tr>\n",
       "    <tr>\n",
       "      <th>1</th>\n",
       "      <td>1.237665e+18</td>\n",
       "      <td>144.826101</td>\n",
       "      <td>31.274185</td>\n",
       "      <td>24.77759</td>\n",
       "      <td>22.83188</td>\n",
       "      <td>22.58444</td>\n",
       "      <td>21.16812</td>\n",
       "      <td>21.61427</td>\n",
       "      <td>4518</td>\n",
       "      <td>301</td>\n",
       "      <td>5</td>\n",
       "      <td>119</td>\n",
       "      <td>1.176014e+19</td>\n",
       "      <td>GALAXY</td>\n",
       "      <td>0.779136</td>\n",
       "      <td>10445</td>\n",
       "      <td>58158</td>\n",
       "      <td>427</td>\n",
       "    </tr>\n",
       "    <tr>\n",
       "      <th>2</th>\n",
       "      <td>1.237661e+18</td>\n",
       "      <td>142.188790</td>\n",
       "      <td>35.582444</td>\n",
       "      <td>25.26307</td>\n",
       "      <td>22.66389</td>\n",
       "      <td>20.60976</td>\n",
       "      <td>19.34857</td>\n",
       "      <td>18.94827</td>\n",
       "      <td>3606</td>\n",
       "      <td>301</td>\n",
       "      <td>2</td>\n",
       "      <td>120</td>\n",
       "      <td>5.152200e+18</td>\n",
       "      <td>GALAXY</td>\n",
       "      <td>0.644195</td>\n",
       "      <td>4576</td>\n",
       "      <td>55592</td>\n",
       "      <td>299</td>\n",
       "    </tr>\n",
       "    <tr>\n",
       "      <th>3</th>\n",
       "      <td>1.237663e+18</td>\n",
       "      <td>338.741038</td>\n",
       "      <td>-0.402828</td>\n",
       "      <td>22.13682</td>\n",
       "      <td>23.77656</td>\n",
       "      <td>21.61162</td>\n",
       "      <td>20.50454</td>\n",
       "      <td>19.25010</td>\n",
       "      <td>4192</td>\n",
       "      <td>301</td>\n",
       "      <td>3</td>\n",
       "      <td>214</td>\n",
       "      <td>1.030107e+19</td>\n",
       "      <td>GALAXY</td>\n",
       "      <td>0.932346</td>\n",
       "      <td>9149</td>\n",
       "      <td>58039</td>\n",
       "      <td>775</td>\n",
       "    </tr>\n",
       "    <tr>\n",
       "      <th>4</th>\n",
       "      <td>1.237680e+18</td>\n",
       "      <td>345.282593</td>\n",
       "      <td>21.183866</td>\n",
       "      <td>19.43718</td>\n",
       "      <td>17.58028</td>\n",
       "      <td>16.49747</td>\n",
       "      <td>15.97711</td>\n",
       "      <td>15.54461</td>\n",
       "      <td>8102</td>\n",
       "      <td>301</td>\n",
       "      <td>3</td>\n",
       "      <td>137</td>\n",
       "      <td>6.891865e+18</td>\n",
       "      <td>GALAXY</td>\n",
       "      <td>0.116123</td>\n",
       "      <td>6121</td>\n",
       "      <td>56187</td>\n",
       "      <td>842</td>\n",
       "    </tr>\n",
       "  </tbody>\n",
       "</table>\n",
       "</div>"
      ],
      "text/plain": [
       "         obj_ID       alpha      delta         u         g         r  \\\n",
       "0  1.237661e+18  135.689107  32.494632  23.87882  22.27530  20.39501   \n",
       "1  1.237665e+18  144.826101  31.274185  24.77759  22.83188  22.58444   \n",
       "2  1.237661e+18  142.188790  35.582444  25.26307  22.66389  20.60976   \n",
       "3  1.237663e+18  338.741038  -0.402828  22.13682  23.77656  21.61162   \n",
       "4  1.237680e+18  345.282593  21.183866  19.43718  17.58028  16.49747   \n",
       "\n",
       "          i         z  run_ID  rerun_ID  cam_col  field_ID   spec_obj_ID  \\\n",
       "0  19.16573  18.79371    3606       301        2        79  6.543777e+18   \n",
       "1  21.16812  21.61427    4518       301        5       119  1.176014e+19   \n",
       "2  19.34857  18.94827    3606       301        2       120  5.152200e+18   \n",
       "3  20.50454  19.25010    4192       301        3       214  1.030107e+19   \n",
       "4  15.97711  15.54461    8102       301        3       137  6.891865e+18   \n",
       "\n",
       "    class  redshift  plate    MJD  fiber_ID  \n",
       "0  GALAXY  0.634794   5812  56354       171  \n",
       "1  GALAXY  0.779136  10445  58158       427  \n",
       "2  GALAXY  0.644195   4576  55592       299  \n",
       "3  GALAXY  0.932346   9149  58039       775  \n",
       "4  GALAXY  0.116123   6121  56187       842  "
      ]
     },
     "execution_count": 2,
     "metadata": {},
     "output_type": "execute_result"
    }
   ],
   "source": [
    "df = pd.read_csv(\"../dataset/star_classification.csv\")\n",
    "df.head()"
   ]
  },
  {
   "cell_type": "code",
   "execution_count": 3,
   "metadata": {},
   "outputs": [],
   "source": [
    "TARGET = \"class\""
   ]
  },
  {
   "cell_type": "markdown",
   "metadata": {},
   "source": [
    "## Exploratory Data Analysis"
   ]
  },
  {
   "cell_type": "markdown",
   "metadata": {},
   "source": [
    "### Descriptive Statistics"
   ]
  },
  {
   "cell_type": "code",
   "execution_count": 4,
   "metadata": {},
   "outputs": [
    {
     "name": "stdout",
     "output_type": "stream",
     "text": [
      "<class 'pandas.core.frame.DataFrame'>\n",
      "RangeIndex: 100000 entries, 0 to 99999\n",
      "Data columns (total 18 columns):\n",
      " #   Column       Non-Null Count   Dtype  \n",
      "---  ------       --------------   -----  \n",
      " 0   obj_ID       100000 non-null  float64\n",
      " 1   alpha        100000 non-null  float64\n",
      " 2   delta        100000 non-null  float64\n",
      " 3   u            100000 non-null  float64\n",
      " 4   g            100000 non-null  float64\n",
      " 5   r            100000 non-null  float64\n",
      " 6   i            100000 non-null  float64\n",
      " 7   z            100000 non-null  float64\n",
      " 8   run_ID       100000 non-null  int64  \n",
      " 9   rerun_ID     100000 non-null  int64  \n",
      " 10  cam_col      100000 non-null  int64  \n",
      " 11  field_ID     100000 non-null  int64  \n",
      " 12  spec_obj_ID  100000 non-null  float64\n",
      " 13  class        100000 non-null  object \n",
      " 14  redshift     100000 non-null  float64\n",
      " 15  plate        100000 non-null  int64  \n",
      " 16  MJD          100000 non-null  int64  \n",
      " 17  fiber_ID     100000 non-null  int64  \n",
      "dtypes: float64(10), int64(7), object(1)\n",
      "memory usage: 13.7+ MB\n"
     ]
    }
   ],
   "source": [
    "df.info()"
   ]
  },
  {
   "cell_type": "code",
   "execution_count": 5,
   "metadata": {},
   "outputs": [
    {
     "data": {
      "text/plain": [
       "(100000, 18)"
      ]
     },
     "execution_count": 5,
     "metadata": {},
     "output_type": "execute_result"
    }
   ],
   "source": [
    "df.shape"
   ]
  },
  {
   "cell_type": "code",
   "execution_count": 6,
   "metadata": {},
   "outputs": [
    {
     "data": {
      "text/plain": [
       "class\n",
       "GALAXY    59445\n",
       "STAR      21594\n",
       "QSO       18961\n",
       "Name: count, dtype: int64"
      ]
     },
     "execution_count": 6,
     "metadata": {},
     "output_type": "execute_result"
    }
   ],
   "source": [
    "df['class'].value_counts()"
   ]
  },
  {
   "cell_type": "code",
   "execution_count": 7,
   "metadata": {},
   "outputs": [
    {
     "data": {
      "text/html": [
       "<div>\n",
       "<style scoped>\n",
       "    .dataframe tbody tr th:only-of-type {\n",
       "        vertical-align: middle;\n",
       "    }\n",
       "\n",
       "    .dataframe tbody tr th {\n",
       "        vertical-align: top;\n",
       "    }\n",
       "\n",
       "    .dataframe thead th {\n",
       "        text-align: right;\n",
       "    }\n",
       "</style>\n",
       "<table border=\"1\" class=\"dataframe\">\n",
       "  <thead>\n",
       "    <tr style=\"text-align: right;\">\n",
       "      <th></th>\n",
       "      <th>obj_ID</th>\n",
       "      <th>alpha</th>\n",
       "      <th>delta</th>\n",
       "      <th>u</th>\n",
       "      <th>g</th>\n",
       "      <th>r</th>\n",
       "      <th>i</th>\n",
       "      <th>z</th>\n",
       "      <th>run_ID</th>\n",
       "      <th>rerun_ID</th>\n",
       "      <th>cam_col</th>\n",
       "      <th>field_ID</th>\n",
       "      <th>spec_obj_ID</th>\n",
       "      <th>redshift</th>\n",
       "      <th>plate</th>\n",
       "      <th>MJD</th>\n",
       "      <th>fiber_ID</th>\n",
       "    </tr>\n",
       "  </thead>\n",
       "  <tbody>\n",
       "    <tr>\n",
       "      <th>count</th>\n",
       "      <td>1.000000e+05</td>\n",
       "      <td>100000.000000</td>\n",
       "      <td>100000.000000</td>\n",
       "      <td>100000.000000</td>\n",
       "      <td>100000.000000</td>\n",
       "      <td>100000.000000</td>\n",
       "      <td>100000.000000</td>\n",
       "      <td>100000.000000</td>\n",
       "      <td>100000.000000</td>\n",
       "      <td>100000.0</td>\n",
       "      <td>100000.000000</td>\n",
       "      <td>100000.000000</td>\n",
       "      <td>1.000000e+05</td>\n",
       "      <td>100000.000000</td>\n",
       "      <td>100000.000000</td>\n",
       "      <td>100000.000000</td>\n",
       "      <td>100000.000000</td>\n",
       "    </tr>\n",
       "    <tr>\n",
       "      <th>mean</th>\n",
       "      <td>1.237665e+18</td>\n",
       "      <td>177.629117</td>\n",
       "      <td>24.135305</td>\n",
       "      <td>21.980468</td>\n",
       "      <td>20.531387</td>\n",
       "      <td>19.645762</td>\n",
       "      <td>19.084854</td>\n",
       "      <td>18.668810</td>\n",
       "      <td>4481.366060</td>\n",
       "      <td>301.0</td>\n",
       "      <td>3.511610</td>\n",
       "      <td>186.130520</td>\n",
       "      <td>5.783882e+18</td>\n",
       "      <td>0.576661</td>\n",
       "      <td>5137.009660</td>\n",
       "      <td>55588.647500</td>\n",
       "      <td>449.312740</td>\n",
       "    </tr>\n",
       "    <tr>\n",
       "      <th>std</th>\n",
       "      <td>8.438560e+12</td>\n",
       "      <td>96.502241</td>\n",
       "      <td>19.644665</td>\n",
       "      <td>31.769291</td>\n",
       "      <td>31.750292</td>\n",
       "      <td>1.854760</td>\n",
       "      <td>1.757895</td>\n",
       "      <td>31.728152</td>\n",
       "      <td>1964.764593</td>\n",
       "      <td>0.0</td>\n",
       "      <td>1.586912</td>\n",
       "      <td>149.011073</td>\n",
       "      <td>3.324016e+18</td>\n",
       "      <td>0.730707</td>\n",
       "      <td>2952.303351</td>\n",
       "      <td>1808.484233</td>\n",
       "      <td>272.498404</td>\n",
       "    </tr>\n",
       "    <tr>\n",
       "      <th>min</th>\n",
       "      <td>1.237646e+18</td>\n",
       "      <td>0.005528</td>\n",
       "      <td>-18.785328</td>\n",
       "      <td>-9999.000000</td>\n",
       "      <td>-9999.000000</td>\n",
       "      <td>9.822070</td>\n",
       "      <td>9.469903</td>\n",
       "      <td>-9999.000000</td>\n",
       "      <td>109.000000</td>\n",
       "      <td>301.0</td>\n",
       "      <td>1.000000</td>\n",
       "      <td>11.000000</td>\n",
       "      <td>2.995191e+17</td>\n",
       "      <td>-0.009971</td>\n",
       "      <td>266.000000</td>\n",
       "      <td>51608.000000</td>\n",
       "      <td>1.000000</td>\n",
       "    </tr>\n",
       "    <tr>\n",
       "      <th>25%</th>\n",
       "      <td>1.237659e+18</td>\n",
       "      <td>127.518222</td>\n",
       "      <td>5.146771</td>\n",
       "      <td>20.352353</td>\n",
       "      <td>18.965230</td>\n",
       "      <td>18.135828</td>\n",
       "      <td>17.732285</td>\n",
       "      <td>17.460677</td>\n",
       "      <td>3187.000000</td>\n",
       "      <td>301.0</td>\n",
       "      <td>2.000000</td>\n",
       "      <td>82.000000</td>\n",
       "      <td>2.844138e+18</td>\n",
       "      <td>0.054517</td>\n",
       "      <td>2526.000000</td>\n",
       "      <td>54234.000000</td>\n",
       "      <td>221.000000</td>\n",
       "    </tr>\n",
       "    <tr>\n",
       "      <th>50%</th>\n",
       "      <td>1.237663e+18</td>\n",
       "      <td>180.900700</td>\n",
       "      <td>23.645922</td>\n",
       "      <td>22.179135</td>\n",
       "      <td>21.099835</td>\n",
       "      <td>20.125290</td>\n",
       "      <td>19.405145</td>\n",
       "      <td>19.004595</td>\n",
       "      <td>4188.000000</td>\n",
       "      <td>301.0</td>\n",
       "      <td>4.000000</td>\n",
       "      <td>146.000000</td>\n",
       "      <td>5.614883e+18</td>\n",
       "      <td>0.424173</td>\n",
       "      <td>4987.000000</td>\n",
       "      <td>55868.500000</td>\n",
       "      <td>433.000000</td>\n",
       "    </tr>\n",
       "    <tr>\n",
       "      <th>75%</th>\n",
       "      <td>1.237668e+18</td>\n",
       "      <td>233.895005</td>\n",
       "      <td>39.901550</td>\n",
       "      <td>23.687440</td>\n",
       "      <td>22.123767</td>\n",
       "      <td>21.044785</td>\n",
       "      <td>20.396495</td>\n",
       "      <td>19.921120</td>\n",
       "      <td>5326.000000</td>\n",
       "      <td>301.0</td>\n",
       "      <td>5.000000</td>\n",
       "      <td>241.000000</td>\n",
       "      <td>8.332144e+18</td>\n",
       "      <td>0.704154</td>\n",
       "      <td>7400.250000</td>\n",
       "      <td>56777.000000</td>\n",
       "      <td>645.000000</td>\n",
       "    </tr>\n",
       "    <tr>\n",
       "      <th>max</th>\n",
       "      <td>1.237681e+18</td>\n",
       "      <td>359.999810</td>\n",
       "      <td>83.000519</td>\n",
       "      <td>32.781390</td>\n",
       "      <td>31.602240</td>\n",
       "      <td>29.571860</td>\n",
       "      <td>32.141470</td>\n",
       "      <td>29.383740</td>\n",
       "      <td>8162.000000</td>\n",
       "      <td>301.0</td>\n",
       "      <td>6.000000</td>\n",
       "      <td>989.000000</td>\n",
       "      <td>1.412694e+19</td>\n",
       "      <td>7.011245</td>\n",
       "      <td>12547.000000</td>\n",
       "      <td>58932.000000</td>\n",
       "      <td>1000.000000</td>\n",
       "    </tr>\n",
       "  </tbody>\n",
       "</table>\n",
       "</div>"
      ],
      "text/plain": [
       "             obj_ID          alpha          delta              u  \\\n",
       "count  1.000000e+05  100000.000000  100000.000000  100000.000000   \n",
       "mean   1.237665e+18     177.629117      24.135305      21.980468   \n",
       "std    8.438560e+12      96.502241      19.644665      31.769291   \n",
       "min    1.237646e+18       0.005528     -18.785328   -9999.000000   \n",
       "25%    1.237659e+18     127.518222       5.146771      20.352353   \n",
       "50%    1.237663e+18     180.900700      23.645922      22.179135   \n",
       "75%    1.237668e+18     233.895005      39.901550      23.687440   \n",
       "max    1.237681e+18     359.999810      83.000519      32.781390   \n",
       "\n",
       "                   g              r              i              z  \\\n",
       "count  100000.000000  100000.000000  100000.000000  100000.000000   \n",
       "mean       20.531387      19.645762      19.084854      18.668810   \n",
       "std        31.750292       1.854760       1.757895      31.728152   \n",
       "min     -9999.000000       9.822070       9.469903   -9999.000000   \n",
       "25%        18.965230      18.135828      17.732285      17.460677   \n",
       "50%        21.099835      20.125290      19.405145      19.004595   \n",
       "75%        22.123767      21.044785      20.396495      19.921120   \n",
       "max        31.602240      29.571860      32.141470      29.383740   \n",
       "\n",
       "              run_ID  rerun_ID        cam_col       field_ID   spec_obj_ID  \\\n",
       "count  100000.000000  100000.0  100000.000000  100000.000000  1.000000e+05   \n",
       "mean     4481.366060     301.0       3.511610     186.130520  5.783882e+18   \n",
       "std      1964.764593       0.0       1.586912     149.011073  3.324016e+18   \n",
       "min       109.000000     301.0       1.000000      11.000000  2.995191e+17   \n",
       "25%      3187.000000     301.0       2.000000      82.000000  2.844138e+18   \n",
       "50%      4188.000000     301.0       4.000000     146.000000  5.614883e+18   \n",
       "75%      5326.000000     301.0       5.000000     241.000000  8.332144e+18   \n",
       "max      8162.000000     301.0       6.000000     989.000000  1.412694e+19   \n",
       "\n",
       "            redshift          plate            MJD       fiber_ID  \n",
       "count  100000.000000  100000.000000  100000.000000  100000.000000  \n",
       "mean        0.576661    5137.009660   55588.647500     449.312740  \n",
       "std         0.730707    2952.303351    1808.484233     272.498404  \n",
       "min        -0.009971     266.000000   51608.000000       1.000000  \n",
       "25%         0.054517    2526.000000   54234.000000     221.000000  \n",
       "50%         0.424173    4987.000000   55868.500000     433.000000  \n",
       "75%         0.704154    7400.250000   56777.000000     645.000000  \n",
       "max         7.011245   12547.000000   58932.000000    1000.000000  "
      ]
     },
     "execution_count": 7,
     "metadata": {},
     "output_type": "execute_result"
    }
   ],
   "source": [
    "df.describe()"
   ]
  },
  {
   "cell_type": "markdown",
   "metadata": {},
   "source": [
    "## Data Preprocessing"
   ]
  },
  {
   "cell_type": "markdown",
   "metadata": {},
   "source": [
    "### Train-Test Split"
   ]
  },
  {
   "cell_type": "code",
   "execution_count": 8,
   "metadata": {},
   "outputs": [],
   "source": [
    "from sklearn.model_selection import train_test_split\n",
    "from sklearn.preprocessing import LabelEncoder\n",
    "\n",
    "X = df.drop(columns=[TARGET])\n",
    "y = df[TARGET]\n",
    "\n",
    "label_encoder = LabelEncoder()\n",
    "y = label_encoder.fit_transform(y)\n",
    "y = pd.Series(y)\n",
    "\n",
    "class_labels = np.unique(y)\n",
    "\n",
    "X_train, X_test, y_train, y_test = train_test_split(X, y, test_size=0.2, random_state=77)"
   ]
  },
  {
   "cell_type": "markdown",
   "metadata": {},
   "source": [
    "The train-test split is done before any preprocessing to avoid data leakage. The steps below under the heading \"Data Preprocessing\" will be part of the pipeline done in the cross validation step, avoiding data leakage between train and cross-validation set."
   ]
  },
  {
   "cell_type": "markdown",
   "metadata": {},
   "source": [
    "### Missing Values"
   ]
  },
  {
   "cell_type": "code",
   "execution_count": 9,
   "metadata": {},
   "outputs": [
    {
     "name": "stdout",
     "output_type": "stream",
     "text": [
      "Missing values in features (X):\n",
      "Feature obj_ID has 0.00% missing values\n",
      "Feature alpha has 0.00% missing values\n",
      "Feature delta has 0.00% missing values\n",
      "Feature u has 0.00% missing values\n",
      "Feature g has 0.00% missing values\n",
      "Feature r has 0.00% missing values\n",
      "Feature i has 0.00% missing values\n",
      "Feature z has 0.00% missing values\n",
      "Feature run_ID has 0.00% missing values\n",
      "Feature rerun_ID has 0.00% missing values\n",
      "Feature cam_col has 0.00% missing values\n",
      "Feature field_ID has 0.00% missing values\n",
      "Feature spec_obj_ID has 0.00% missing values\n",
      "Feature redshift has 0.00% missing values\n",
      "Feature plate has 0.00% missing values\n",
      "Feature MJD has 0.00% missing values\n",
      "Feature fiber_ID has 0.00% missing values\n",
      "\n",
      "Missing values in labels (y): 0.00%\n"
     ]
    }
   ],
   "source": [
    "missing_percentage_X = (X.isnull().sum() / len(X)) * 100\n",
    "print(\"Missing values in features (X):\")\n",
    "for column, percentage in missing_percentage_X.items():\n",
    "    print(f\"Feature {column} has {percentage:.2f}% missing values\")\n",
    "\n",
    "# Calculate missing values percentage for labels (y)\n",
    "missing_percentage_y = (y.isnull().sum() / len(y)) * 100\n",
    "print(f\"\\nMissing values in labels (y): {missing_percentage_y:.2f}%\")"
   ]
  },
  {
   "cell_type": "markdown",
   "metadata": {},
   "source": [
    "There is no missing value. If there exist any missing value, it must be handled to avoid errors or unwanted bias."
   ]
  },
  {
   "cell_type": "markdown",
   "metadata": {},
   "source": [
    "### Outlier Detection and Removal"
   ]
  },
  {
   "cell_type": "markdown",
   "metadata": {},
   "source": [
    "Outlier detection and removeal is done to avoid bias which may arise due to the outliers influencing the mean, variance, or correlation. Outliers can also cause optimization algorithms to get stuck in local optimum."
   ]
  },
  {
   "cell_type": "code",
   "execution_count": 10,
   "metadata": {},
   "outputs": [],
   "source": [
    "from sklearn.base import BaseEstimator, TransformerMixin\n",
    "\n",
    "class OutlierRemovalIQR(BaseEstimator, TransformerMixin):\n",
    "    def __init__(self):\n",
    "        pass\n",
    "\n",
    "    def fit(self, X, y=None):\n",
    "        self.lower_bounds_ = {}\n",
    "        self.upper_bounds_ = {}\n",
    "        \n",
    "        for column in X.select_dtypes(include=[np.number]).columns:\n",
    "            Q1 = X[column].quantile(0.25)\n",
    "            Q3 = X[column].quantile(0.75)\n",
    "            IQR = Q3 - Q1\n",
    "            self.lower_bounds_[column] = Q1 - 1.5 * IQR\n",
    "            self.upper_bounds_[column] = Q3 + 1.5 * IQR\n",
    "        \n",
    "        return self\n",
    "\n",
    "    def transform(self, X, y=None):\n",
    "        X_clean = X.copy()\n",
    "        for column in self.lower_bounds_:\n",
    "            lower_bound = self.lower_bounds_[column]\n",
    "            upper_bound = self.upper_bounds_[column]\n",
    "            X_clean = X_clean[(X_clean[column] >= lower_bound) & (X_clean[column] <= upper_bound)]\n",
    "        \n",
    "        if y is not None:\n",
    "            y_clean = y.loc[X_clean.index]\n",
    "            X_clean.reset_index(drop=True, inplace=True)\n",
    "            y_clean.reset_index(drop=True, inplace=True)\n",
    "            return X_clean, y_clean\n",
    "        \n",
    "        X_clean.reset_index(drop=True, inplace=True)\n",
    "        return X_clean"
   ]
  },
  {
   "cell_type": "markdown",
   "metadata": {},
   "source": [
    "### Data Transformation"
   ]
  },
  {
   "cell_type": "code",
   "execution_count": 11,
   "metadata": {},
   "outputs": [
    {
     "name": "stdout",
     "output_type": "stream",
     "text": [
      "Checking normality for features in X:\n",
      "Feature: obj_ID - Statistic: 0.9425, p-value: 0.0000\n",
      "  Result (with 95% confidence): Feature obj_ID is not normally distributed.\n",
      "Feature: alpha - Statistic: 0.9564, p-value: 0.0000\n",
      "  Result (with 95% confidence): Feature alpha is not normally distributed.\n",
      "Feature: delta - Statistic: 0.9621, p-value: 0.0000\n",
      "  Result (with 95% confidence): Feature delta is not normally distributed.\n",
      "Feature: u - Statistic: 0.0072, p-value: 0.0000\n",
      "  Result (with 95% confidence): Feature u is not normally distributed.\n",
      "Feature: g - Statistic: 0.0060, p-value: 0.0000\n",
      "  Result (with 95% confidence): Feature g is not normally distributed.\n",
      "Feature: r - Statistic: 0.9625, p-value: 0.0000\n",
      "  Result (with 95% confidence): Feature r is not normally distributed.\n",
      "Feature: i - Statistic: 0.9770, p-value: 0.0000\n",
      "  Result (with 95% confidence): Feature i is not normally distributed.\n",
      "Feature: z - Statistic: 0.0049, p-value: 0.0000\n",
      "  Result (with 95% confidence): Feature z is not normally distributed.\n",
      "Feature: run_ID - Statistic: 0.9425, p-value: 0.0000\n",
      "  Result (with 95% confidence): Feature run_ID is not normally distributed.\n",
      "Feature: rerun_ID - Statistic: 1.0000, p-value: 1.0000\n",
      "  Result (with 95% confidence): Feature rerun_ID is approximately normally distributed.\n",
      "Feature: cam_col - Statistic: 0.9228, p-value: 0.0000\n",
      "  Result (with 95% confidence): Feature cam_col is not normally distributed.\n",
      "Feature: field_ID - Statistic: 0.8423, p-value: 0.0000\n",
      "  Result (with 95% confidence): Feature field_ID is not normally distributed.\n",
      "Feature: spec_obj_ID - Statistic: 0.9686, p-value: 0.0000\n",
      "  Result (with 95% confidence): Feature spec_obj_ID is not normally distributed.\n",
      "Feature: redshift - Statistic: 0.7403, p-value: 0.0000\n",
      "  Result (with 95% confidence): Feature redshift is not normally distributed.\n",
      "Feature: plate - Statistic: 0.9686, p-value: 0.0000\n",
      "  Result (with 95% confidence): Feature plate is not normally distributed.\n",
      "Feature: MJD - Statistic: 0.9549, p-value: 0.0000\n",
      "  Result (with 95% confidence): Feature MJD is not normally distributed.\n",
      "Feature: fiber_ID - Statistic: 0.9634, p-value: 0.0000\n",
      "  Result (with 95% confidence): Feature fiber_ID is not normally distributed.\n"
     ]
    },
    {
     "name": "stderr",
     "output_type": "stream",
     "text": [
      "c:\\Users\\Julian\\Programming\\Seleksi-GaIB-22\\DoE-Supervised-Unsupervised-from-Scratch\\venv\\Lib\\site-packages\\scipy\\stats\\_axis_nan_policy.py:573: UserWarning: scipy.stats.shapiro: For N > 5000, computed p-value may not be accurate. Current N is 100000.\n",
      "  res = hypotest_fun_out(*samples, **kwds)\n",
      "c:\\Users\\Julian\\Programming\\Seleksi-GaIB-22\\DoE-Supervised-Unsupervised-from-Scratch\\venv\\Lib\\site-packages\\scipy\\stats\\_axis_nan_policy.py:573: UserWarning: scipy.stats.shapiro: Input data has range zero. The results may not be accurate.\n",
      "  res = hypotest_fun_out(*samples, **kwds)\n"
     ]
    }
   ],
   "source": [
    "from scipy.stats import shapiro\n",
    "\n",
    "def check_normality(data):\n",
    "    stat, p_value = shapiro(data)\n",
    "    return stat, p_value\n",
    "\n",
    "print(\"Checking normality for features in X:\")\n",
    "for feature in X.columns:\n",
    "    stat, p_value = check_normality(X[feature])\n",
    "    print(f'Feature: {feature} - Statistic: {stat:.4f}, p-value: {p_value:.4f}')\n",
    "    if p_value < 0.05:\n",
    "        print(f'  Result (with 95% confidence): Feature {feature} is not normally distributed.')\n",
    "    else:\n",
    "        print(f'  Result (with 95% confidence): Feature {feature} is approximately normally distributed.')"
   ]
  },
  {
   "cell_type": "markdown",
   "metadata": {},
   "source": [
    "Since most features are not normally distributed, the features will later be normalized, not standardized"
   ]
  },
  {
   "cell_type": "markdown",
   "metadata": {},
   "source": [
    "### Preprocessing Pipeline"
   ]
  },
  {
   "cell_type": "markdown",
   "metadata": {},
   "source": [
    "The pipeline will include outlier detection and removal, data standardization, and oversampling (SMOTE).\n",
    "\n",
    "Data standardization is important to ensure consistent scaling which otherwise would cause bias. It allows better interpretation of results, numerical stability, and improved convergence in optimization algorithm.\n",
    "\n",
    "Undersampling is done due to target count imbalance. This is done to reduce bias. Oversampling is not used since it will increase the compute."
   ]
  },
  {
   "cell_type": "code",
   "execution_count": 12,
   "metadata": {},
   "outputs": [],
   "source": [
    "from imblearn.pipeline import Pipeline as ImbPipeline\n",
    "from sklearn.preprocessing import MinMaxScaler\n",
    "from imblearn.under_sampling import RandomUnderSampler\n",
    "\n",
    "preprocessing_pipeline = ImbPipeline([\n",
    "    ('outlier_removal', OutlierRemovalIQR()),\n",
    "    ('scaler', MinMaxScaler()),\n",
    "    ('undersampler', RandomUnderSampler(sampling_strategy='auto'))\n",
    "])"
   ]
  },
  {
   "cell_type": "markdown",
   "metadata": {},
   "source": [
    "Ideally the above pipeline could become the argument for the cross_val_score function. However, since the pipeline cannot access y, the outlier removal will be done before the cross validation. This will cause data leakage between train and cross validation but simplifying the process."
   ]
  },
  {
   "cell_type": "code",
   "execution_count": 13,
   "metadata": {},
   "outputs": [],
   "source": [
    "class OutlierRemovalIQR():\n",
    "    def __init__(self):\n",
    "        pass\n",
    "\n",
    "    def fit(self, X, y=None):\n",
    "        self.lower_bounds_ = {}\n",
    "        self.upper_bounds_ = {}\n",
    "        \n",
    "        for column in X.select_dtypes(include=[np.number]).columns:\n",
    "            Q1 = X[column].quantile(0.25)\n",
    "            Q3 = X[column].quantile(0.75)\n",
    "            IQR = Q3 - Q1\n",
    "            self.lower_bounds_[column] = Q1 - 1.5 * IQR\n",
    "            self.upper_bounds_[column] = Q3 + 1.5 * IQR\n",
    "        \n",
    "        return self\n",
    "\n",
    "    def transform(self, X, y=None):\n",
    "        X_clean = X.copy()\n",
    "        for column in self.lower_bounds_:\n",
    "            lower_bound = self.lower_bounds_[column]\n",
    "            upper_bound = self.upper_bounds_[column]\n",
    "            X_clean = X_clean[(X_clean[column] >= lower_bound) & (X_clean[column] <= upper_bound)]\n",
    "        \n",
    "        if y is not None:\n",
    "            y_clean = y.loc[X_clean.index]\n",
    "            X_clean.reset_index(drop=True, inplace=True)\n",
    "            y_clean.reset_index(drop=True, inplace=True)\n",
    "            return X_clean, y_clean\n",
    "        \n",
    "        X_clean.reset_index(drop=True, inplace=True)\n",
    "        return X_clean"
   ]
  },
  {
   "cell_type": "code",
   "execution_count": 14,
   "metadata": {},
   "outputs": [],
   "source": [
    "outlier_removal = OutlierRemovalIQR()\n",
    "\n",
    "outlier_removal.fit(X_train, y_train)\n",
    "X_train, y_train = outlier_removal.transform(X_train, y_train)"
   ]
  },
  {
   "cell_type": "markdown",
   "metadata": {},
   "source": [
    "## Modelling"
   ]
  },
  {
   "cell_type": "markdown",
   "metadata": {},
   "source": [
    "### Evaluation Metrics\n",
    "\n",
    "Since the dataset is a multiclass classification problem, the metrics used will be accuracy, precision, recall, F1 score, confusion matrix, and the average of metrics"
   ]
  },
  {
   "cell_type": "code",
   "execution_count": 15,
   "metadata": {},
   "outputs": [],
   "source": [
    "from sklearn.metrics import confusion_matrix\n",
    "from sklearn.metrics import make_scorer, accuracy_score, precision_score, recall_score, f1_score, confusion_matrix\n",
    "\n",
    "scoring = {\n",
    "    'accuracy': make_scorer(accuracy_score),\n",
    "    'precision': make_scorer(precision_score, average='weighted'),\n",
    "    'recall': make_scorer(recall_score, average='weighted'),\n",
    "    'f1': make_scorer(f1_score, average='weighted')\n",
    "}\n",
    "\n",
    "def plot_confusion_matrix(y_true, y_pred, classes, title='Confusion Matrix'):\n",
    "    cm = confusion_matrix(y_true, y_pred)\n",
    "\n",
    "    plt.figure(figsize=(10, 7))\n",
    "    sns.heatmap(cm, annot=True, fmt='d', cmap='Blues', xticklabels=classes, yticklabels=classes)\n",
    "    \n",
    "    plt.xlabel('Predicted labels')\n",
    "    plt.ylabel('True labels')\n",
    "    plt.title(title)\n",
    "    plt.show()"
   ]
  },
  {
   "cell_type": "code",
   "execution_count": 16,
   "metadata": {},
   "outputs": [],
   "source": [
    "def display_metrics(y_test, y_pred):\n",
    "    accuracy = accuracy_score(y_test, y_pred)\n",
    "    precision = precision_score(y_test, y_pred, average='macro')\n",
    "    recall = recall_score(y_test, y_pred, average='macro')\n",
    "    f1 = f1_score(y_test, y_pred, average='macro')\n",
    "\n",
    "    plot_confusion_matrix(y_test, y_pred, class_labels)\n",
    "\n",
    "    print(\"Accuracy:\", accuracy)\n",
    "    print(\"Precision:\", precision)\n",
    "    print(\"Recall\", recall)\n",
    "    print(\"F1 score:\", f1)"
   ]
  },
  {
   "cell_type": "markdown",
   "metadata": {},
   "source": [
    "### Import Classifiers"
   ]
  },
  {
   "cell_type": "code",
   "execution_count": 17,
   "metadata": {},
   "outputs": [],
   "source": [
    "from sklearn.model_selection import KFold\n",
    "from sklearn.neighbors import KNeighborsClassifier\n",
    "from sklearn.naive_bayes import GaussianNB\n",
    "from sklearn.linear_model import LogisticRegression\n",
    "from sklearn.svm import SVC\n",
    "from sklearn.tree import DecisionTreeClassifier"
   ]
  },
  {
   "cell_type": "markdown",
   "metadata": {},
   "source": [
    "### Baseline Model (Logistic Regression)"
   ]
  },
  {
   "cell_type": "code",
   "execution_count": 18,
   "metadata": {},
   "outputs": [],
   "source": [
    "pipeline = ImbPipeline([\n",
    "    ('scaler', MinMaxScaler()),\n",
    "    ('undersampler', RandomUnderSampler(sampling_strategy='auto')),\n",
    "    ('classifier', LogisticRegression(solver='lbfgs', max_iter=1000))\n",
    "])\n",
    "\n",
    "pipeline.fit(X_train, y_train)\n",
    "\n",
    "y_pred = pipeline.predict(X_test)"
   ]
  },
  {
   "cell_type": "code",
   "execution_count": 19,
   "metadata": {},
   "outputs": [
    {
     "data": {
      "image/png": "[encoded data removed]",
      "text/plain": [
       "<Figure size 1000x700 with 2 Axes>"
      ]
     },
     "metadata": {},
     "output_type": "display_data"
    },
    {
     "name": "stdout",
     "output_type": "stream",
     "text": [
      "Accuracy: 0.91255\n",
      "Precision: 0.8839606402478614\n",
      "Recall 0.9376725582239976\n",
      "F1 score: 0.9063966022064293\n"
     ]
    }
   ],
   "source": [
    "display_metrics(y_test, y_pred)"
   ]
  },
  {
   "cell_type": "markdown",
   "metadata": {},
   "source": [
    "The baseline model work pretty well already"
   ]
  },
  {
   "cell_type": "markdown",
   "metadata": {},
   "source": [
    "#### Model From Scratch Comparison"
   ]
  },
  {
   "cell_type": "code",
   "execution_count": 20,
   "metadata": {},
   "outputs": [],
   "source": [
    "from supervised_learning.softreg import LogisticRegression as CustomLogisticRegression"
   ]
  },
  {
   "cell_type": "code",
   "execution_count": 21,
   "metadata": {},
   "outputs": [],
   "source": [
    "pipeline = ImbPipeline([\n",
    "    ('scaler', MinMaxScaler()),\n",
    "    ('undersampler', RandomUnderSampler(sampling_strategy='auto')),\n",
    "    ('classifier', CustomLogisticRegression(learning_rate=0.02))\n",
    "])\n",
    "\n",
    "pipeline.fit(X_train, y_train)\n",
    "\n",
    "y_pred = pipeline.predict(X_test)"
   ]
  },
  {
   "cell_type": "code",
   "execution_count": 22,
   "metadata": {},
   "outputs": [
    {
     "data": {
      "image/png": "[encoded data removed]",
      "text/plain": [
       "<Figure size 1000x700 with 2 Axes>"
      ]
     },
     "metadata": {},
     "output_type": "display_data"
    },
    {
     "name": "stdout",
     "output_type": "stream",
     "text": [
      "Accuracy: 0.54615\n",
      "Precision: 0.6575789185146003\n",
      "Recall 0.734060236525675\n",
      "F1 score: 0.5653421337761296\n"
     ]
    }
   ],
   "source": [
    "display_metrics(y_test, y_pred)"
   ]
  },
  {
   "cell_type": "markdown",
   "metadata": {},
   "source": [
    "### KNN"
   ]
  },
  {
   "cell_type": "code",
   "execution_count": 23,
   "metadata": {},
   "outputs": [],
   "source": [
    "pipeline = ImbPipeline([\n",
    "    ('scaler', MinMaxScaler()),\n",
    "    ('undersampler', RandomUnderSampler(sampling_strategy='auto')),\n",
    "    ('classifier', KNeighborsClassifier(n_neighbors=len(class_labels)))\n",
    "])\n",
    "\n",
    "pipeline.fit(X_train, y_train)\n",
    "\n",
    "y_pred = pipeline.predict(X_test)"
   ]
  },
  {
   "cell_type": "code",
   "execution_count": 24,
   "metadata": {},
   "outputs": [
    {
     "data": {
      "image/png": "[encoded data removed]",
      "text/plain": [
       "<Figure size 1000x700 with 2 Axes>"
      ]
     },
     "metadata": {},
     "output_type": "display_data"
    },
    {
     "name": "stdout",
     "output_type": "stream",
     "text": [
      "Accuracy: 0.90155\n",
      "Precision: 0.8803550382486911\n",
      "Recall 0.9069199020301303\n",
      "F1 score: 0.892642639524778\n"
     ]
    }
   ],
   "source": [
    "display_metrics(y_test, y_pred)"
   ]
  },
  {
   "cell_type": "markdown",
   "metadata": {},
   "source": [
    "#### Model From Scratch Comparison"
   ]
  },
  {
   "cell_type": "code",
   "execution_count": 25,
   "metadata": {},
   "outputs": [],
   "source": [
    "from supervised_learning.knn import KNeighborsClassifier as CustomKNeighborsClassifier"
   ]
  },
  {
   "cell_type": "code",
   "execution_count": 30,
   "metadata": {},
   "outputs": [],
   "source": [
    "pipeline = ImbPipeline([\n",
    "    ('scaler', MinMaxScaler()),\n",
    "    ('undersampler', RandomUnderSampler(sampling_strategy='auto')),\n",
    "    ('classifier', CustomKNeighborsClassifier(n_neighbors=int(len(X_train) ** 0.5)))\n",
    "])\n",
    "\n",
    "pipeline.fit(X_train, y_train)\n",
    "\n",
    "y_pred = pipeline.predict(X_test)"
   ]
  },
  {
   "cell_type": "code",
   "execution_count": 31,
   "metadata": {},
   "outputs": [
    {
     "data": {
      "image/png": "[encoded data removed]",
      "text/plain": [
       "<Figure size 1000x700 with 2 Axes>"
      ]
     },
     "metadata": {},
     "output_type": "display_data"
    },
    {
     "name": "stdout",
     "output_type": "stream",
     "text": [
      "Accuracy: 0.85625\n",
      "Precision: 0.8304336964349188\n",
      "Recall 0.8648102993022658\n",
      "F1 score: 0.8457386971389674\n"
     ]
    }
   ],
   "source": [
    "display_metrics(y_test, y_pred)"
   ]
  },
  {
   "cell_type": "markdown",
   "metadata": {},
   "source": [
    "### Gaussian Naive Bayes"
   ]
  },
  {
   "cell_type": "code",
   "execution_count": 32,
   "metadata": {},
   "outputs": [],
   "source": [
    "pipeline = ImbPipeline([\n",
    "    ('scaler', MinMaxScaler()),\n",
    "    ('undersampler', RandomUnderSampler(sampling_strategy='auto')),\n",
    "    ('classifier', GaussianNB())\n",
    "])\n",
    "\n",
    "pipeline.fit(X_train, y_train)\n",
    "\n",
    "y_pred = pipeline.predict(X_test)"
   ]
  },
  {
   "cell_type": "code",
   "execution_count": 33,
   "metadata": {},
   "outputs": [
    {
     "data": {
      "image/png": "[encoded data removed]",
      "text/plain": [
       "<Figure size 1000x700 with 2 Axes>"
      ]
     },
     "metadata": {},
     "output_type": "display_data"
    },
    {
     "name": "stdout",
     "output_type": "stream",
     "text": [
      "Accuracy: 0.8558\n",
      "Precision: 0.8437141867236287\n",
      "Recall 0.8993916520430846\n",
      "F1 score: 0.8558538038975344\n"
     ]
    }
   ],
   "source": [
    "display_metrics(y_test, y_pred)"
   ]
  },
  {
   "cell_type": "markdown",
   "metadata": {},
   "source": [
    "#### Model From Scratch Comparison"
   ]
  },
  {
   "cell_type": "code",
   "execution_count": 47,
   "metadata": {},
   "outputs": [],
   "source": [
    "from supervised_learning.naive_bayes import GaussianNB as CustomGaussianNB"
   ]
  },
  {
   "cell_type": "code",
   "execution_count": 48,
   "metadata": {},
   "outputs": [],
   "source": [
    "pipeline = ImbPipeline([\n",
    "    ('scaler', MinMaxScaler()),\n",
    "    ('undersampler', RandomUnderSampler(sampling_strategy='auto')),\n",
    "    ('classifier', CustomGaussianNB())\n",
    "])\n",
    "\n",
    "pipeline.fit(X_train, y_train)\n",
    "\n",
    "y_pred = pipeline.predict(X_test)"
   ]
  },
  {
   "cell_type": "code",
   "execution_count": 49,
   "metadata": {},
   "outputs": [
    {
     "data": {
      "image/png": "[encoded data removed]",
      "text/plain": [
       "<Figure size 1000x700 with 2 Axes>"
      ]
     },
     "metadata": {},
     "output_type": "display_data"
    },
    {
     "name": "stdout",
     "output_type": "stream",
     "text": [
      "Accuracy: 0.8543\n",
      "Precision: 0.842728658289016\n",
      "Recall 0.8986576150759542\n",
      "F1 score: 0.8546197417645836\n"
     ]
    }
   ],
   "source": [
    "display_metrics(y_test, y_pred)"
   ]
  }
 ],
 "metadata": {
  "kernelspec": {
   "display_name": "Python 3",
   "language": "python",
   "name": "python3"
  },
  "language_info": {
   "codemirror_mode": {
    "name": "ipython",
    "version": 3
   },
   "file_extension": ".py",
   "mimetype": "text/x-python",
   "name": "python",
   "nbconvert_exporter": "python",
   "pygments_lexer": "ipython3",
   "version": "3.12.3"
  }
 },
 "nbformat": 4,
 "nbformat_minor": 2
}
